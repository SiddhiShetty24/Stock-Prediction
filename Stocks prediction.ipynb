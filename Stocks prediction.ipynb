{
 "cells": [
  {
   "cell_type": "code",
   "execution_count": 1,
   "id": "4651519c",
   "metadata": {},
   "outputs": [
    {
     "name": "stdout",
     "output_type": "stream",
     "text": [
      "Requirement already satisfied: tensorflow in c:\\users\\hetvi\\anaconda3\\lib\\site-packages (2.13.0)\n",
      "Requirement already satisfied: tensorflow-intel==2.13.0 in c:\\users\\hetvi\\anaconda3\\lib\\site-packages (from tensorflow) (2.13.0)\n",
      "Requirement already satisfied: tensorboard<2.14,>=2.13 in c:\\users\\hetvi\\anaconda3\\lib\\site-packages (from tensorflow-intel==2.13.0->tensorflow) (2.13.0)\n",
      "Requirement already satisfied: opt-einsum>=2.3.2 in c:\\users\\hetvi\\anaconda3\\lib\\site-packages (from tensorflow-intel==2.13.0->tensorflow) (3.3.0)\n",
      "Requirement already satisfied: astunparse>=1.6.0 in c:\\users\\hetvi\\anaconda3\\lib\\site-packages (from tensorflow-intel==2.13.0->tensorflow) (1.6.3)\n",
      "Requirement already satisfied: h5py>=2.9.0 in c:\\users\\hetvi\\anaconda3\\lib\\site-packages (from tensorflow-intel==2.13.0->tensorflow) (3.7.0)\n",
      "Requirement already satisfied: libclang>=13.0.0 in c:\\users\\hetvi\\anaconda3\\lib\\site-packages (from tensorflow-intel==2.13.0->tensorflow) (16.0.6)\n",
      "Requirement already satisfied: gast<=0.4.0,>=0.2.1 in c:\\users\\hetvi\\anaconda3\\lib\\site-packages (from tensorflow-intel==2.13.0->tensorflow) (0.4.0)\n",
      "Requirement already satisfied: tensorflow-estimator<2.14,>=2.13.0 in c:\\users\\hetvi\\anaconda3\\lib\\site-packages (from tensorflow-intel==2.13.0->tensorflow) (2.13.0)\n",
      "Requirement already satisfied: typing-extensions<4.6.0,>=3.6.6 in c:\\users\\hetvi\\anaconda3\\lib\\site-packages (from tensorflow-intel==2.13.0->tensorflow) (4.4.0)\n",
      "Requirement already satisfied: keras<2.14,>=2.13.1 in c:\\users\\hetvi\\anaconda3\\lib\\site-packages (from tensorflow-intel==2.13.0->tensorflow) (2.13.1)\n",
      "Requirement already satisfied: grpcio<2.0,>=1.24.3 in c:\\users\\hetvi\\anaconda3\\lib\\site-packages (from tensorflow-intel==2.13.0->tensorflow) (1.58.0)\n",
      "Requirement already satisfied: six>=1.12.0 in c:\\users\\hetvi\\anaconda3\\lib\\site-packages (from tensorflow-intel==2.13.0->tensorflow) (1.16.0)\n",
      "Requirement already satisfied: flatbuffers>=23.1.21 in c:\\users\\hetvi\\anaconda3\\lib\\site-packages (from tensorflow-intel==2.13.0->tensorflow) (23.5.26)\n",
      "Requirement already satisfied: numpy<=1.24.3,>=1.22 in c:\\users\\hetvi\\anaconda3\\lib\\site-packages (from tensorflow-intel==2.13.0->tensorflow) (1.23.5)\n",
      "Requirement already satisfied: setuptools in c:\\users\\hetvi\\anaconda3\\lib\\site-packages (from tensorflow-intel==2.13.0->tensorflow) (65.6.3)\n",
      "Requirement already satisfied: termcolor>=1.1.0 in c:\\users\\hetvi\\anaconda3\\lib\\site-packages (from tensorflow-intel==2.13.0->tensorflow) (2.3.0)\n",
      "Requirement already satisfied: google-pasta>=0.1.1 in c:\\users\\hetvi\\anaconda3\\lib\\site-packages (from tensorflow-intel==2.13.0->tensorflow) (0.2.0)\n",
      "Requirement already satisfied: tensorflow-io-gcs-filesystem>=0.23.1 in c:\\users\\hetvi\\anaconda3\\lib\\site-packages (from tensorflow-intel==2.13.0->tensorflow) (0.31.0)\n",
      "Requirement already satisfied: absl-py>=1.0.0 in c:\\users\\hetvi\\anaconda3\\lib\\site-packages (from tensorflow-intel==2.13.0->tensorflow) (1.4.0)\n",
      "Requirement already satisfied: packaging in c:\\users\\hetvi\\anaconda3\\lib\\site-packages (from tensorflow-intel==2.13.0->tensorflow) (22.0)\n",
      "Requirement already satisfied: protobuf!=4.21.0,!=4.21.1,!=4.21.2,!=4.21.3,!=4.21.4,!=4.21.5,<5.0.0dev,>=3.20.3 in c:\\users\\hetvi\\anaconda3\\lib\\site-packages (from tensorflow-intel==2.13.0->tensorflow) (4.24.3)\n",
      "Requirement already satisfied: wrapt>=1.11.0 in c:\\users\\hetvi\\anaconda3\\lib\\site-packages (from tensorflow-intel==2.13.0->tensorflow) (1.14.1)\n",
      "Requirement already satisfied: wheel<1.0,>=0.23.0 in c:\\users\\hetvi\\anaconda3\\lib\\site-packages (from astunparse>=1.6.0->tensorflow-intel==2.13.0->tensorflow) (0.38.4)\n",
      "Requirement already satisfied: google-auth-oauthlib<1.1,>=0.5 in c:\\users\\hetvi\\anaconda3\\lib\\site-packages (from tensorboard<2.14,>=2.13->tensorflow-intel==2.13.0->tensorflow) (1.0.0)\n",
      "Requirement already satisfied: werkzeug>=1.0.1 in c:\\users\\hetvi\\anaconda3\\lib\\site-packages (from tensorboard<2.14,>=2.13->tensorflow-intel==2.13.0->tensorflow) (2.2.2)\n",
      "Requirement already satisfied: markdown>=2.6.8 in c:\\users\\hetvi\\anaconda3\\lib\\site-packages (from tensorboard<2.14,>=2.13->tensorflow-intel==2.13.0->tensorflow) (3.4.1)\n",
      "Requirement already satisfied: google-auth<3,>=1.6.3 in c:\\users\\hetvi\\anaconda3\\lib\\site-packages (from tensorboard<2.14,>=2.13->tensorflow-intel==2.13.0->tensorflow) (2.22.0)\n",
      "Requirement already satisfied: requests<3,>=2.21.0 in c:\\users\\hetvi\\anaconda3\\lib\\site-packages (from tensorboard<2.14,>=2.13->tensorflow-intel==2.13.0->tensorflow) (2.28.1)\n",
      "Requirement already satisfied: tensorboard-data-server<0.8.0,>=0.7.0 in c:\\users\\hetvi\\anaconda3\\lib\\site-packages (from tensorboard<2.14,>=2.13->tensorflow-intel==2.13.0->tensorflow) (0.7.1)\n",
      "Requirement already satisfied: urllib3<2.0 in c:\\users\\hetvi\\anaconda3\\lib\\site-packages (from google-auth<3,>=1.6.3->tensorboard<2.14,>=2.13->tensorflow-intel==2.13.0->tensorflow) (1.26.14)\n",
      "Requirement already satisfied: rsa<5,>=3.1.4 in c:\\users\\hetvi\\anaconda3\\lib\\site-packages (from google-auth<3,>=1.6.3->tensorboard<2.14,>=2.13->tensorflow-intel==2.13.0->tensorflow) (4.9)\n",
      "Requirement already satisfied: pyasn1-modules>=0.2.1 in c:\\users\\hetvi\\anaconda3\\lib\\site-packages (from google-auth<3,>=1.6.3->tensorboard<2.14,>=2.13->tensorflow-intel==2.13.0->tensorflow) (0.2.8)\n",
      "Requirement already satisfied: cachetools<6.0,>=2.0.0 in c:\\users\\hetvi\\anaconda3\\lib\\site-packages (from google-auth<3,>=1.6.3->tensorboard<2.14,>=2.13->tensorflow-intel==2.13.0->tensorflow) (5.3.1)\n",
      "Requirement already satisfied: requests-oauthlib>=0.7.0 in c:\\users\\hetvi\\anaconda3\\lib\\site-packages (from google-auth-oauthlib<1.1,>=0.5->tensorboard<2.14,>=2.13->tensorflow-intel==2.13.0->tensorflow) (1.3.1)\n",
      "Requirement already satisfied: idna<4,>=2.5 in c:\\users\\hetvi\\anaconda3\\lib\\site-packages (from requests<3,>=2.21.0->tensorboard<2.14,>=2.13->tensorflow-intel==2.13.0->tensorflow) (3.4)\n",
      "Requirement already satisfied: certifi>=2017.4.17 in c:\\users\\hetvi\\anaconda3\\lib\\site-packages (from requests<3,>=2.21.0->tensorboard<2.14,>=2.13->tensorflow-intel==2.13.0->tensorflow) (2022.12.7)\n",
      "Requirement already satisfied: charset-normalizer<3,>=2 in c:\\users\\hetvi\\anaconda3\\lib\\site-packages (from requests<3,>=2.21.0->tensorboard<2.14,>=2.13->tensorflow-intel==2.13.0->tensorflow) (2.0.4)\n",
      "Requirement already satisfied: MarkupSafe>=2.1.1 in c:\\users\\hetvi\\anaconda3\\lib\\site-packages (from werkzeug>=1.0.1->tensorboard<2.14,>=2.13->tensorflow-intel==2.13.0->tensorflow) (2.1.1)\n",
      "Requirement already satisfied: pyasn1<0.5.0,>=0.4.6 in c:\\users\\hetvi\\anaconda3\\lib\\site-packages (from pyasn1-modules>=0.2.1->google-auth<3,>=1.6.3->tensorboard<2.14,>=2.13->tensorflow-intel==2.13.0->tensorflow) (0.4.8)\n",
      "Requirement already satisfied: oauthlib>=3.0.0 in c:\\users\\hetvi\\anaconda3\\lib\\site-packages (from requests-oauthlib>=0.7.0->google-auth-oauthlib<1.1,>=0.5->tensorboard<2.14,>=2.13->tensorflow-intel==2.13.0->tensorflow) (3.2.2)\n",
      "Note: you may need to restart the kernel to use updated packages.\n"
     ]
    }
   ],
   "source": [
    "pip install tensorflow"
   ]
  },
  {
   "cell_type": "code",
   "execution_count": 2,
   "id": "8fbbd68c",
   "metadata": {},
   "outputs": [],
   "source": [
    "import numpy as np\n",
    "import pandas as pd\n",
    "import matplotlib.pyplot as plt\n",
    "from sklearn.preprocessing import MinMaxScaler\n",
    "from keras.models import Sequential\n",
    "from keras.layers import Dense,LSTM,Dropout"
   ]
  },
  {
   "cell_type": "code",
   "execution_count": 3,
   "id": "17d2305c",
   "metadata": {},
   "outputs": [],
   "source": [
    "data=pd.read_csv('Google_Stock_Price_Train.csv')"
   ]
  },
  {
   "cell_type": "code",
   "execution_count": 4,
   "id": "71f3c24b",
   "metadata": {},
   "outputs": [
    {
     "name": "stdout",
     "output_type": "stream",
     "text": [
      "<class 'pandas.core.frame.DataFrame'>\n",
      "RangeIndex: 1258 entries, 0 to 1257\n",
      "Data columns (total 6 columns):\n",
      " #   Column  Non-Null Count  Dtype  \n",
      "---  ------  --------------  -----  \n",
      " 0   Date    1258 non-null   object \n",
      " 1   Open    1258 non-null   float64\n",
      " 2   High    1258 non-null   float64\n",
      " 3   Low     1258 non-null   float64\n",
      " 4   Close   1258 non-null   object \n",
      " 5   Volume  1258 non-null   object \n",
      "dtypes: float64(3), object(3)\n",
      "memory usage: 59.1+ KB\n"
     ]
    }
   ],
   "source": [
    "data.info()"
   ]
  },
  {
   "cell_type": "code",
   "execution_count": 5,
   "id": "85472595",
   "metadata": {},
   "outputs": [],
   "source": [
    "data['Close']=pd.to_numeric(data.Close,errors='coerce')\n",
    "data=data.dropna()\n",
    "trainData=data.iloc[:,4:5].values"
   ]
  },
  {
   "cell_type": "code",
   "execution_count": 6,
   "id": "7901f497",
   "metadata": {},
   "outputs": [
    {
     "name": "stdout",
     "output_type": "stream",
     "text": [
      "<class 'pandas.core.frame.DataFrame'>\n",
      "Int64Index: 1149 entries, 0 to 1257\n",
      "Data columns (total 6 columns):\n",
      " #   Column  Non-Null Count  Dtype  \n",
      "---  ------  --------------  -----  \n",
      " 0   Date    1149 non-null   object \n",
      " 1   Open    1149 non-null   float64\n",
      " 2   High    1149 non-null   float64\n",
      " 3   Low     1149 non-null   float64\n",
      " 4   Close   1149 non-null   float64\n",
      " 5   Volume  1149 non-null   object \n",
      "dtypes: float64(4), object(2)\n",
      "memory usage: 62.8+ KB\n"
     ]
    }
   ],
   "source": [
    "data.info()"
   ]
  },
  {
   "cell_type": "code",
   "execution_count": 7,
   "id": "8678e226",
   "metadata": {},
   "outputs": [
    {
     "data": {
      "text/plain": [
       "(1149, 1)"
      ]
     },
     "execution_count": 7,
     "metadata": {},
     "output_type": "execute_result"
    }
   ],
   "source": [
    "sc=MinMaxScaler(feature_range=(0,1))\n",
    "trainData=sc.fit_transform(trainData)\n",
    "trainData.shape"
   ]
  },
  {
   "cell_type": "code",
   "execution_count": 8,
   "id": "046c6cfb",
   "metadata": {},
   "outputs": [],
   "source": [
    "X_train=[]\n",
    "y_train=[]\n",
    "for i in range(5,1149):\n",
    "    X_train.append(trainData[i-5:i,0])\n",
    "    y_train.append(trainData[i,0])\n",
    "X_train,y_train=np.array(X_train),np.array(y_train)    "
   ]
  },
  {
   "cell_type": "code",
   "execution_count": 9,
   "id": "5d654453",
   "metadata": {},
   "outputs": [
    {
     "data": {
      "text/plain": [
       "(1144, 5, 1)"
      ]
     },
     "execution_count": 9,
     "metadata": {},
     "output_type": "execute_result"
    }
   ],
   "source": [
    "#adding the batch size axis: \n",
    "X_train=np.reshape(X_train,(X_train.shape[0],X_train.shape[1],1))\n",
    "X_train.shape"
   ]
  },
  {
   "cell_type": "code",
   "execution_count": 10,
   "id": "87292ad5",
   "metadata": {},
   "outputs": [],
   "source": [
    "model=Sequential()\n",
    "model.add(LSTM(units=100,return_sequences=True,input_shape=(X_train.shape[1],1)))\n",
    "model.add(Dropout(0.2))\n",
    "model.add(LSTM(units=100,return_sequences=True))\n",
    "model.add(Dropout(0.2))\n",
    "model.add(LSTM(units=100,return_sequences=True))\n",
    "model.add(Dropout(0.2))\n",
    "model.add(LSTM(units=100,return_sequences=False))\n",
    "model.add(Dropout(0.2))\n",
    "model.add(Dense(units=1))\n",
    "model.compile(optimizer='adam',loss='mean_squared_error')"
   ]
  },
  {
   "cell_type": "code",
   "execution_count": 11,
   "id": "02e557c9",
   "metadata": {},
   "outputs": [
    {
     "name": "stdout",
     "output_type": "stream",
     "text": [
      "Epoch 1/100\n",
      "1144/1144 - 11s - loss: 0.0107 - 11s/epoch - 9ms/step\n",
      "Epoch 2/100\n",
      "1144/1144 - 6s - loss: 0.0082 - 6s/epoch - 5ms/step\n",
      "Epoch 3/100\n",
      "1144/1144 - 6s - loss: 0.0074 - 6s/epoch - 5ms/step\n",
      "Epoch 4/100\n",
      "1144/1144 - 6s - loss: 0.0056 - 6s/epoch - 5ms/step\n",
      "Epoch 5/100\n",
      "1144/1144 - 6s - loss: 0.0054 - 6s/epoch - 5ms/step\n",
      "Epoch 6/100\n",
      "1144/1144 - 6s - loss: 0.0052 - 6s/epoch - 5ms/step\n",
      "Epoch 7/100\n",
      "1144/1144 - 6s - loss: 0.0044 - 6s/epoch - 5ms/step\n",
      "Epoch 8/100\n",
      "1144/1144 - 6s - loss: 0.0043 - 6s/epoch - 5ms/step\n",
      "Epoch 9/100\n",
      "1144/1144 - 6s - loss: 0.0038 - 6s/epoch - 5ms/step\n",
      "Epoch 10/100\n",
      "1144/1144 - 6s - loss: 0.0039 - 6s/epoch - 5ms/step\n",
      "Epoch 11/100\n",
      "1144/1144 - 6s - loss: 0.0031 - 6s/epoch - 5ms/step\n",
      "Epoch 12/100\n",
      "1144/1144 - 6s - loss: 0.0032 - 6s/epoch - 5ms/step\n",
      "Epoch 13/100\n",
      "1144/1144 - 6s - loss: 0.0030 - 6s/epoch - 5ms/step\n",
      "Epoch 14/100\n",
      "1144/1144 - 6s - loss: 0.0032 - 6s/epoch - 5ms/step\n",
      "Epoch 15/100\n",
      "1144/1144 - 6s - loss: 0.0032 - 6s/epoch - 5ms/step\n",
      "Epoch 16/100\n",
      "1144/1144 - 6s - loss: 0.0031 - 6s/epoch - 5ms/step\n",
      "Epoch 17/100\n",
      "1144/1144 - 6s - loss: 0.0028 - 6s/epoch - 5ms/step\n",
      "Epoch 18/100\n",
      "1144/1144 - 6s - loss: 0.0031 - 6s/epoch - 5ms/step\n",
      "Epoch 19/100\n",
      "1144/1144 - 6s - loss: 0.0030 - 6s/epoch - 5ms/step\n",
      "Epoch 20/100\n",
      "1144/1144 - 6s - loss: 0.0026 - 6s/epoch - 5ms/step\n",
      "Epoch 21/100\n",
      "1144/1144 - 6s - loss: 0.0029 - 6s/epoch - 5ms/step\n",
      "Epoch 22/100\n",
      "1144/1144 - 6s - loss: 0.0028 - 6s/epoch - 5ms/step\n",
      "Epoch 23/100\n",
      "1144/1144 - 6s - loss: 0.0028 - 6s/epoch - 5ms/step\n",
      "Epoch 24/100\n",
      "1144/1144 - 6s - loss: 0.0025 - 6s/epoch - 5ms/step\n",
      "Epoch 25/100\n",
      "1144/1144 - 6s - loss: 0.0028 - 6s/epoch - 5ms/step\n",
      "Epoch 26/100\n",
      "1144/1144 - 6s - loss: 0.0026 - 6s/epoch - 5ms/step\n",
      "Epoch 27/100\n",
      "1144/1144 - 6s - loss: 0.0024 - 6s/epoch - 5ms/step\n",
      "Epoch 28/100\n",
      "1144/1144 - 6s - loss: 0.0025 - 6s/epoch - 5ms/step\n",
      "Epoch 29/100\n",
      "1144/1144 - 6s - loss: 0.0028 - 6s/epoch - 5ms/step\n",
      "Epoch 30/100\n",
      "1144/1144 - 6s - loss: 0.0026 - 6s/epoch - 5ms/step\n",
      "Epoch 31/100\n",
      "1144/1144 - 6s - loss: 0.0024 - 6s/epoch - 5ms/step\n",
      "Epoch 32/100\n",
      "1144/1144 - 6s - loss: 0.0023 - 6s/epoch - 5ms/step\n",
      "Epoch 33/100\n",
      "1144/1144 - 6s - loss: 0.0026 - 6s/epoch - 5ms/step\n",
      "Epoch 34/100\n",
      "1144/1144 - 7s - loss: 0.0023 - 7s/epoch - 6ms/step\n",
      "Epoch 35/100\n",
      "1144/1144 - 6s - loss: 0.0023 - 6s/epoch - 5ms/step\n",
      "Epoch 36/100\n",
      "1144/1144 - 6s - loss: 0.0023 - 6s/epoch - 5ms/step\n",
      "Epoch 37/100\n",
      "1144/1144 - 6s - loss: 0.0025 - 6s/epoch - 5ms/step\n",
      "Epoch 38/100\n",
      "1144/1144 - 6s - loss: 0.0022 - 6s/epoch - 5ms/step\n",
      "Epoch 39/100\n",
      "1144/1144 - 6s - loss: 0.0023 - 6s/epoch - 5ms/step\n",
      "Epoch 40/100\n",
      "1144/1144 - 6s - loss: 0.0024 - 6s/epoch - 5ms/step\n",
      "Epoch 41/100\n",
      "1144/1144 - 6s - loss: 0.0021 - 6s/epoch - 5ms/step\n",
      "Epoch 42/100\n",
      "1144/1144 - 6s - loss: 0.0020 - 6s/epoch - 5ms/step\n",
      "Epoch 43/100\n",
      "1144/1144 - 6s - loss: 0.0021 - 6s/epoch - 5ms/step\n",
      "Epoch 44/100\n",
      "1144/1144 - 6s - loss: 0.0024 - 6s/epoch - 5ms/step\n",
      "Epoch 45/100\n",
      "1144/1144 - 6s - loss: 0.0022 - 6s/epoch - 5ms/step\n",
      "Epoch 46/100\n",
      "1144/1144 - 6s - loss: 0.0023 - 6s/epoch - 5ms/step\n",
      "Epoch 47/100\n",
      "1144/1144 - 6s - loss: 0.0022 - 6s/epoch - 5ms/step\n",
      "Epoch 48/100\n",
      "1144/1144 - 6s - loss: 0.0024 - 6s/epoch - 5ms/step\n",
      "Epoch 49/100\n",
      "1144/1144 - 6s - loss: 0.0021 - 6s/epoch - 5ms/step\n",
      "Epoch 50/100\n",
      "1144/1144 - 6s - loss: 0.0020 - 6s/epoch - 6ms/step\n",
      "Epoch 51/100\n",
      "1144/1144 - 6s - loss: 0.0020 - 6s/epoch - 5ms/step\n",
      "Epoch 52/100\n",
      "1144/1144 - 6s - loss: 0.0022 - 6s/epoch - 5ms/step\n",
      "Epoch 53/100\n",
      "1144/1144 - 6s - loss: 0.0020 - 6s/epoch - 5ms/step\n",
      "Epoch 54/100\n",
      "1144/1144 - 6s - loss: 0.0020 - 6s/epoch - 5ms/step\n",
      "Epoch 55/100\n",
      "1144/1144 - 6s - loss: 0.0022 - 6s/epoch - 5ms/step\n",
      "Epoch 56/100\n",
      "1144/1144 - 7s - loss: 0.0022 - 7s/epoch - 6ms/step\n",
      "Epoch 57/100\n",
      "1144/1144 - 6s - loss: 0.0020 - 6s/epoch - 5ms/step\n",
      "Epoch 58/100\n",
      "1144/1144 - 6s - loss: 0.0021 - 6s/epoch - 6ms/step\n",
      "Epoch 59/100\n",
      "1144/1144 - 6s - loss: 0.0019 - 6s/epoch - 6ms/step\n",
      "Epoch 60/100\n",
      "1144/1144 - 6s - loss: 0.0019 - 6s/epoch - 5ms/step\n",
      "Epoch 61/100\n",
      "1144/1144 - 6s - loss: 0.0021 - 6s/epoch - 5ms/step\n",
      "Epoch 62/100\n",
      "1144/1144 - 6s - loss: 0.0023 - 6s/epoch - 5ms/step\n",
      "Epoch 63/100\n",
      "1144/1144 - 6s - loss: 0.0020 - 6s/epoch - 5ms/step\n",
      "Epoch 64/100\n",
      "1144/1144 - 6s - loss: 0.0019 - 6s/epoch - 5ms/step\n",
      "Epoch 65/100\n",
      "1144/1144 - 6s - loss: 0.0022 - 6s/epoch - 5ms/step\n",
      "Epoch 66/100\n",
      "1144/1144 - 6s - loss: 0.0020 - 6s/epoch - 5ms/step\n",
      "Epoch 67/100\n",
      "1144/1144 - 6s - loss: 0.0017 - 6s/epoch - 5ms/step\n",
      "Epoch 68/100\n",
      "1144/1144 - 6s - loss: 0.0019 - 6s/epoch - 5ms/step\n",
      "Epoch 69/100\n",
      "1144/1144 - 6s - loss: 0.0020 - 6s/epoch - 5ms/step\n",
      "Epoch 70/100\n",
      "1144/1144 - 6s - loss: 0.0019 - 6s/epoch - 5ms/step\n",
      "Epoch 71/100\n",
      "1144/1144 - 6s - loss: 0.0018 - 6s/epoch - 5ms/step\n",
      "Epoch 72/100\n",
      "1144/1144 - 6s - loss: 0.0019 - 6s/epoch - 6ms/step\n",
      "Epoch 73/100\n",
      "1144/1144 - 6s - loss: 0.0020 - 6s/epoch - 5ms/step\n",
      "Epoch 74/100\n",
      "1144/1144 - 6s - loss: 0.0020 - 6s/epoch - 5ms/step\n",
      "Epoch 75/100\n",
      "1144/1144 - 7s - loss: 0.0018 - 7s/epoch - 6ms/step\n",
      "Epoch 76/100\n",
      "1144/1144 - 7s - loss: 0.0019 - 7s/epoch - 6ms/step\n",
      "Epoch 77/100\n",
      "1144/1144 - 6s - loss: 0.0019 - 6s/epoch - 5ms/step\n",
      "Epoch 78/100\n",
      "1144/1144 - 6s - loss: 0.0018 - 6s/epoch - 6ms/step\n",
      "Epoch 79/100\n",
      "1144/1144 - 7s - loss: 0.0019 - 7s/epoch - 6ms/step\n",
      "Epoch 80/100\n",
      "1144/1144 - 6s - loss: 0.0018 - 6s/epoch - 5ms/step\n",
      "Epoch 81/100\n",
      "1144/1144 - 6s - loss: 0.0018 - 6s/epoch - 6ms/step\n",
      "Epoch 82/100\n",
      "1144/1144 - 6s - loss: 0.0020 - 6s/epoch - 5ms/step\n",
      "Epoch 83/100\n",
      "1144/1144 - 6s - loss: 0.0019 - 6s/epoch - 5ms/step\n",
      "Epoch 84/100\n",
      "1144/1144 - 8s - loss: 0.0018 - 8s/epoch - 7ms/step\n",
      "Epoch 85/100\n",
      "1144/1144 - 8s - loss: 0.0017 - 8s/epoch - 7ms/step\n",
      "Epoch 86/100\n",
      "1144/1144 - 7s - loss: 0.0019 - 7s/epoch - 6ms/step\n",
      "Epoch 87/100\n",
      "1144/1144 - 7s - loss: 0.0018 - 7s/epoch - 6ms/step\n",
      "Epoch 88/100\n",
      "1144/1144 - 7s - loss: 0.0019 - 7s/epoch - 6ms/step\n",
      "Epoch 89/100\n",
      "1144/1144 - 6s - loss: 0.0018 - 6s/epoch - 6ms/step\n",
      "Epoch 90/100\n",
      "1144/1144 - 6s - loss: 0.0019 - 6s/epoch - 6ms/step\n",
      "Epoch 91/100\n",
      "1144/1144 - 6s - loss: 0.0018 - 6s/epoch - 6ms/step\n",
      "Epoch 92/100\n",
      "1144/1144 - 6s - loss: 0.0017 - 6s/epoch - 5ms/step\n",
      "Epoch 93/100\n",
      "1144/1144 - 6s - loss: 0.0018 - 6s/epoch - 5ms/step\n",
      "Epoch 94/100\n",
      "1144/1144 - 9s - loss: 0.0018 - 9s/epoch - 8ms/step\n",
      "Epoch 95/100\n",
      "1144/1144 - 9s - loss: 0.0017 - 9s/epoch - 8ms/step\n",
      "Epoch 96/100\n",
      "1144/1144 - 8s - loss: 0.0016 - 8s/epoch - 7ms/step\n",
      "Epoch 97/100\n",
      "1144/1144 - 7s - loss: 0.0018 - 7s/epoch - 6ms/step\n",
      "Epoch 98/100\n",
      "1144/1144 - 7s - loss: 0.0019 - 7s/epoch - 6ms/step\n",
      "Epoch 99/100\n",
      "1144/1144 - 7s - loss: 0.0018 - 7s/epoch - 6ms/step\n",
      "Epoch 100/100\n",
      "1144/1144 - 7s - loss: 0.0017 - 7s/epoch - 6ms/step\n"
     ]
    }
   ],
   "source": [
    "hist=model.fit(X_train,y_train,epochs=100,batch_size=1,verbose=2)"
   ]
  },
  {
   "cell_type": "code",
   "execution_count": 12,
   "id": "9e9f87ab",
   "metadata": {},
   "outputs": [
    {
     "data": {
      "image/png": "[encoded data removed]",
      "text/plain": [
       "<Figure size 640x480 with 1 Axes>"
      ]
     },
     "metadata": {},
     "output_type": "display_data"
    }
   ],
   "source": [
    "plt.plot(hist.history['loss'])\n",
    "plt.title('Training model loss')\n",
    "plt.ylabel('loss')\n",
    "plt.xlabel('epoch')\n",
    "plt.legend(['train'],loc='upper left')\n",
    "plt.show()"
   ]
  },
  {
   "cell_type": "code",
   "execution_count": 13,
   "id": "cdf5101b",
   "metadata": {},
   "outputs": [
    {
     "data": {
      "text/plain": [
       "(15, 5, 1)"
      ]
     },
     "execution_count": 13,
     "metadata": {},
     "output_type": "execute_result"
    }
   ],
   "source": [
    "testData=pd.read_csv('Google_Stock_Price_Test.csv')\n",
    "testData['Close']=pd.to_numeric(testData.Close,errors='coerce')\n",
    "testData=testData.dropna()\n",
    "testData=testData.iloc[:,4:5]\n",
    "y_test=testData.iloc[5:,0:].values\n",
    "#input array for the model:\n",
    "inputClosing=testData.iloc[:,0:].values\n",
    "inputClosing_scaled=sc.transform(inputClosing)\n",
    "inputClosing_scaled.shape\n",
    "X_test = []\n",
    "for i in range(5, len(testData)):\n",
    "    X_test.append(inputClosing_scaled[i - 5:i, 0])\n",
    "X_test = np.array(X_test)\n",
    "X_test = np.reshape(X_test, (X_test.shape[0], X_test.shape[1], 1))\n",
    "X_test.shape"
   ]
  },
  {
   "cell_type": "code",
   "execution_count": 14,
   "id": "5c8b7175",
   "metadata": {},
   "outputs": [
    {
     "name": "stdout",
     "output_type": "stream",
     "text": [
      "1/1 [==============================] - 1s 1s/step\n"
     ]
    },
    {
     "data": {
      "text/plain": [
       "array([[0.73573625],\n",
       "       [0.7355205 ],\n",
       "       [0.74528456],\n",
       "       [0.745383  ],\n",
       "       [0.7504318 ],\n",
       "       [0.7413821 ],\n",
       "       [0.7473264 ],\n",
       "       [0.73660445],\n",
       "       [0.74503934],\n",
       "       [0.7719408 ],\n",
       "       [0.7796858 ],\n",
       "       [0.80622756],\n",
       "       [0.7968695 ],\n",
       "       [0.7901614 ],\n",
       "       [0.7471906 ]], dtype=float32)"
      ]
     },
     "execution_count": 14,
     "metadata": {},
     "output_type": "execute_result"
    }
   ],
   "source": [
    "y_pred=model.predict(X_test)\n",
    "y_pred"
   ]
  },
  {
   "cell_type": "code",
   "execution_count": 15,
   "id": "47083c81",
   "metadata": {},
   "outputs": [],
   "source": [
    "predicted_price=sc.inverse_transform(y_pred)"
   ]
  },
  {
   "cell_type": "code",
   "execution_count": 16,
   "id": "8cf27f3c",
   "metadata": {},
   "outputs": [
    {
     "data": {
      "image/png": "[encoded data removed]",
      "text/plain": [
       "<Figure size 640x480 with 1 Axes>"
      ]
     },
     "metadata": {},
     "output_type": "display_data"
    }
   ],
   "source": [
    "plt.plot(y_test,color='red',label='Actual Stock Price')\n",
    "plt.plot(predicted_price,color='green',label='Predicted Stock Price')\n",
    "plt.title('Google Stock Price Prediction')\n",
    "plt.xlabel('Time')\n",
    "plt.ylabel('Stock Price')\n",
    "plt.legend()\n",
    "plt.show()"
   ]
  },
  {
   "cell_type": "code",
   "execution_count": null,
   "id": "e3b79aee",
   "metadata": {},
   "outputs": [],
   "source": []
  }
 ],
 "metadata": {
  "kernelspec": {
   "display_name": "Python 3 (ipykernel)",
   "language": "python",
   "name": "python3"
  },
  "language_info": {
   "codemirror_mode": {
    "name": "ipython",
    "version": 3
   },
   "file_extension": ".py",
   "mimetype": "text/x-python",
   "name": "python",
   "nbconvert_exporter": "python",
   "pygments_lexer": "ipython3",
   "version": "3.10.9"
  }
 },
 "nbformat": 4,
 "nbformat_minor": 5
}
